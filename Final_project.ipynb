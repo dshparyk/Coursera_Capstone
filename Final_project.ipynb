{
 "cells": [
  {
   "cell_type": "markdown",
   "metadata": {},
   "source": [
    "## Final Capstone project"
   ]
  },
  {
   "cell_type": "markdown",
   "metadata": {},
   "source": [
    " "
   ]
  },
  {
   "cell_type": "markdown",
   "metadata": {},
   "source": [
    "### Installing prerequisites"
   ]
  },
  {
   "cell_type": "code",
   "execution_count": 1,
   "metadata": {},
   "outputs": [
    {
     "name": "stdout",
     "output_type": "stream",
     "text": [
      "Requirement already satisfied: requests in /anaconda3/lib/python3.6/site-packages (2.18.4)\n",
      "Requirement already satisfied: chardet<3.1.0,>=3.0.2 in /anaconda3/lib/python3.6/site-packages (from requests) (3.0.4)\n",
      "Requirement already satisfied: idna<2.7,>=2.5 in /anaconda3/lib/python3.6/site-packages (from requests) (2.6)\n",
      "Requirement already satisfied: urllib3<1.23,>=1.21.1 in /anaconda3/lib/python3.6/site-packages (from requests) (1.22)\n",
      "Requirement already satisfied: certifi>=2017.4.17 in /anaconda3/lib/python3.6/site-packages (from requests) (2018.4.16)\n",
      "\u001b[33mYou are using pip version 18.0, however version 18.1 is available.\n",
      "You should consider upgrading via the 'pip install --upgrade pip' command.\u001b[0m\n",
      "Solving environment: done\n",
      "\n",
      "# All requested packages already installed.\n",
      "\n",
      "Solving environment: done\n",
      "\n",
      "# All requested packages already installed.\n",
      "\n",
      "Install and import completed\n"
     ]
    }
   ],
   "source": [
    "#importing required libraries\n",
    "import numpy as np # library to handle data in a vectorized manner\n",
    "import pandas as pd # library for data analsysis\n",
    "#installing requests to work with URLs (if not installed before)\n",
    "!pip install requests\n",
    "#importing requests\n",
    "import requests\n",
    "\n",
    "#Importing additional dependencies to show neighbourhoods in the map\n",
    "!conda install -c conda-forge geopy --yes\n",
    "from geopy.geocoders import Nominatim # convert an address into latitude and longitude values\n",
    "\n",
    "!conda install -c conda-forge folium=0.5.0 --yes\n",
    "import folium # map rendering library\n",
    "\n",
    "print('Install and import completed')"
   ]
  },
  {
   "cell_type": "code",
   "execution_count": 2,
   "metadata": {},
   "outputs": [],
   "source": [
    "#tranforming json file into a pandas dataframe library\n",
    "from pandas.io.json import json_normalize"
   ]
  },
  {
   "cell_type": "markdown",
   "metadata": {},
   "source": [
    " "
   ]
  },
  {
   "cell_type": "markdown",
   "metadata": {},
   "source": [
    "### Define Foursquare Credentials"
   ]
  },
  {
   "cell_type": "code",
   "execution_count": 3,
   "metadata": {},
   "outputs": [],
   "source": [
    "CLIENT_ID = '0GPMCSTZ5SOR20WJQNQWRXM0YHXQDMIKAQKHMTPQM2FPHPES' #Foursquare ID\n",
    "CLIENT_SECRET = 'N2VIOQ1Y45VH2MCATYXQJQZS2AEALSIC4UPVWKUGBFU0GSZS' #Foursquare Secret\n",
    "VERSION = '20181102' # Foursquare API version\n",
    "LIMIT = 100"
   ]
  },
  {
   "cell_type": "markdown",
   "metadata": {},
   "source": [
    "### In our project we are going to compare trending venues around Empire State Building (NewYork) and CN Tower (Toronto). Let's convert the Empire State Building and CN Tower address to their latitude and longitude coordinates."
   ]
  },
  {
   "cell_type": "code",
   "execution_count": 4,
   "metadata": {},
   "outputs": [
    {
     "name": "stderr",
     "output_type": "stream",
     "text": [
      "/anaconda3/lib/python3.6/site-packages/geopy/geocoders/osm.py:143: UserWarning: Using Nominatim with the default \"geopy/1.17.0\" `user_agent` is strongly discouraged, as it violates Nominatim's ToS https://operations.osmfoundation.org/policies/nominatim/ and may possibly cause 403 and 429 HTTP errors. Please specify a custom `user_agent` with `Nominatim(user_agent=\"my-application\")` or by overriding the default `user_agent`: `geopy.geocoders.options.default_user_agent = \"my-application\"`. In geopy 2.0 this will become an exception.\n",
      "  UserWarning\n"
     ]
    },
    {
     "name": "stdout",
     "output_type": "stream",
     "text": [
      "Empire State Building:  40.7484284 -73.9856546198733\n",
      "CN Tower:  43.6425637 -79.3870871832047\n"
     ]
    }
   ],
   "source": [
    "ESB_address = 'Empire State Building, New York, NY'\n",
    "CNT_address = 'CN Tower, Front Street West, Toronto, ON'\n",
    "\n",
    "geolocator = Nominatim()\n",
    "location = geolocator.geocode(ESB_address)\n",
    "\n",
    "ESB_latitude = location.latitude\n",
    "ESB_longitude = location.longitude\n",
    "\n",
    "location = geolocator.geocode(CNT_address)\n",
    "CNT_latitude = location.latitude\n",
    "CNT_longitude = location.longitude\n",
    "\n",
    "print(\"Empire State Building: \", ESB_latitude, ESB_longitude)\n",
    "print(\"CN Tower: \", CNT_latitude, CNT_longitude)"
   ]
  },
  {
   "cell_type": "markdown",
   "metadata": {},
   "source": [
    "### Let's explore trending venues"
   ]
  },
  {
   "cell_type": "markdown",
   "metadata": {},
   "source": [
    " For trending venues Foursquare URL looks like that:\n",
    "> `https://api.foursquare.com/v2/venues/`**trending**`?client_id=`**CLIENT_ID**`&client_secret=`**CLIENT_SECRET**`&ll=`**LATITUDE**`,`**LONGITUDE**`&v=`**VERSION**"
   ]
  },
  {
   "cell_type": "markdown",
   "metadata": {},
   "source": [
    "##### We are interested in knowing the venues that are trending at this exact time, meaning the places with the highest foot traffic. So let's do that and get the trending venues around Empire State Building and CN Tower."
   ]
  },
  {
   "cell_type": "code",
   "execution_count": 5,
   "metadata": {},
   "outputs": [
    {
     "name": "stdout",
     "output_type": "stream",
     "text": [
      "{'meta': {'code': 200, 'requestId': '5bdc6b179fb6b71cdf6d0f2c'}, 'response': {'venues': [{'id': '42829c80f964a5206a221fe3', 'name': 'Grand Central Terminal', 'location': {'address': '87 E 42nd St', 'crossStreet': 'btwn Vanderbilt & Park Ave', 'lat': 40.752841608758914, 'lng': -73.97759371330933, 'distance': 838, 'postalCode': '10017', 'cc': 'US', 'city': 'New York', 'state': 'NY', 'country': 'United States', 'formattedAddress': ['87 E 42nd St (btwn Vanderbilt & Park Ave)', 'New York, NY 10017', 'United States']}, 'categories': [{'id': '4bf58dd8d48988d129951735', 'name': 'Train Station', 'pluralName': 'Train Stations', 'shortName': 'Train Station', 'icon': {'prefix': 'https://ss3.4sqi.net/img/categories_v2/travel/trainstation_', 'suffix': '.png'}, 'primary': True}], 'venuePage': {'id': '91385129'}}, {'id': '4283ee00f964a5209d221fe3', 'name': 'Jacob K. Javits Convention Center', 'location': {'address': '655 W 34th St', 'crossStreet': 'at 11th Ave', 'lat': 40.75714002927082, 'lng': -74.00240421295166, 'labeledLatLngs': [{'label': 'display', 'lat': 40.75714002927082, 'lng': -74.00240421295166}], 'distance': 1713, 'postalCode': '10001', 'cc': 'US', 'city': 'New York', 'state': 'NY', 'country': 'United States', 'formattedAddress': ['655 W 34th St (at 11th Ave)', 'New York, NY 10001', 'United States']}, 'categories': [{'id': '4bf58dd8d48988d1ff931735', 'name': 'Convention Center', 'pluralName': 'Convention Centers', 'shortName': 'Convention Center', 'icon': {'prefix': 'https://ss3.4sqi.net/img/categories_v2/building/conventioncenter_', 'suffix': '.png'}, 'primary': True}], 'venuePage': {'id': '36675064'}}, {'id': '42911d00f964a520f5231fe3', 'name': 'New York Penn Station', 'location': {'address': '1 Penn Plz', 'crossStreet': 'btwn W 31st & W 33rd St', 'lat': 40.75068688320595, 'lng': -73.99315234584975, 'distance': 680, 'postalCode': '10001', 'cc': 'US', 'neighborhood': 'Chelsea', 'city': 'New York', 'state': 'NY', 'country': 'United States', 'formattedAddress': ['1 Penn Plz (btwn W 31st & W 33rd St)', 'New York, NY 10001', 'United States']}, 'categories': [{'id': '4bf58dd8d48988d129951735', 'name': 'Train Station', 'pluralName': 'Train Stations', 'shortName': 'Train Station', 'icon': {'prefix': 'https://ss3.4sqi.net/img/categories_v2/travel/trainstation_', 'suffix': '.png'}, 'primary': True}], 'venuePage': {'id': '85006792'}}, {'id': '451287ebf964a520a1391fe3', 'name': 'Google New York', 'location': {'address': '76 9th Ave', 'crossStreet': 'btwn W 15th & W 16th St', 'lat': 40.7416158042599, 'lng': -74.00390625, 'labeledLatLngs': [{'label': 'display', 'lat': 40.7416158042599, 'lng': -74.00390625}], 'distance': 1715, 'postalCode': '10011', 'cc': 'US', 'city': 'New York', 'state': 'NY', 'country': 'United States', 'formattedAddress': ['76 9th Ave (btwn W 15th & W 16th St)', 'New York, NY 10011', 'United States']}, 'categories': [{'id': '4bf58dd8d48988d124941735', 'name': 'Office', 'pluralName': 'Offices', 'shortName': 'Office', 'icon': {'prefix': 'https://ss3.4sqi.net/img/categories_v2/building/default_', 'suffix': '.png'}, 'primary': True}]}, {'id': '4af5a46af964a520b5fa21e3', 'name': 'Museum of Modern Art (MoMA)', 'location': {'address': '11 W 53rd St', 'crossStreet': 'btwn 5th & 6th Ave', 'lat': 40.76153099993235, 'lng': -73.97713456816525, 'distance': 1625, 'postalCode': '10019', 'cc': 'US', 'city': 'New York', 'state': 'NY', 'country': 'United States', 'formattedAddress': ['11 W 53rd St (btwn 5th & 6th Ave)', 'New York, NY 10019', 'United States']}, 'categories': [{'id': '4bf58dd8d48988d18f941735', 'name': 'Art Museum', 'pluralName': 'Art Museums', 'shortName': 'Art Museum', 'icon': {'prefix': 'https://ss3.4sqi.net/img/categories_v2/arts_entertainment/museum_art_', 'suffix': '.png'}, 'primary': True}]}, {'id': '4840fe6bf964a52030501fe3', 'name': 'Port Authority Bus Terminal', 'location': {'address': '625 8th Ave', 'crossStreet': 'btwn W 40th & W 42nd St', 'lat': 40.7569049796105, 'lng': -73.99219969562924, 'distance': 1093, 'postalCode': '10018', 'cc': 'US', 'city': 'New York', 'state': 'NY', 'country': 'United States', 'formattedAddress': ['625 8th Ave (btwn W 40th & W 42nd St)', 'New York, NY 10018', 'United States']}, 'categories': [{'id': '4bf58dd8d48988d1fe931735', 'name': 'Bus Station', 'pluralName': 'Bus Stations', 'shortName': 'Bus Station', 'icon': {'prefix': 'https://ss3.4sqi.net/img/categories_v2/travel/busstation_', 'suffix': '.png'}, 'primary': True}]}, {'id': '5a187743ccad6b307315e6fe', 'name': 'Foursquare HQ', 'location': {'address': '50 W 23rd St', 'crossStreet': 'btwn 5th & 6th Ave', 'lat': 40.74231997674383, 'lng': -73.99156204479854, 'labeledLatLngs': [{'label': 'display', 'lat': 40.74231997674383, 'lng': -73.99156204479854}], 'distance': 842, 'postalCode': '10010', 'cc': 'US', 'city': 'New York', 'state': 'NY', 'country': 'United States', 'formattedAddress': ['50 W 23rd St (btwn 5th & 6th Ave)', 'New York, NY 10010', 'United States']}, 'categories': [{'id': '4bf58dd8d48988d125941735', 'name': 'Tech Startup', 'pluralName': 'Tech Startups', 'shortName': 'Tech Startup', 'icon': {'prefix': 'https://ss3.4sqi.net/img/categories_v2/shops/technology_', 'suffix': '.png'}, 'primary': True}], 'venuePage': {'id': '489091283'}}]}}\n",
      "\n",
      "\n",
      "{'meta': {'code': 200, 'requestId': '5bdc6b171ed2197242ae02e9'}, 'response': {'venues': []}}\n"
     ]
    }
   ],
   "source": [
    "# define URLs\n",
    "ESB_url = 'https://api.foursquare.com/v2/venues/trending?client_id={}&client_secret={}&ll={},{}&v={}'.format(CLIENT_ID, CLIENT_SECRET, ESB_latitude, ESB_longitude, VERSION)\n",
    "CNT_url = 'https://api.foursquare.com/v2/venues/trending?client_id={}&client_secret={}&ll={},{}&v={}'.format(CLIENT_ID, CLIENT_SECRET, CNT_latitude, CNT_longitude, VERSION)\n",
    "\n",
    "# send GET requests and get trending venues\n",
    "ESB_results = requests.get(ESB_url).json()\n",
    "CNT_results = requests.get(CNT_url).json()\n",
    "print(ESB_results)\n",
    "print(\"\\n\")\n",
    "print(CNT_results)"
   ]
  },
  {
   "cell_type": "markdown",
   "metadata": {},
   "source": [
    "##### Check if any venues are trending at this time"
   ]
  },
  {
   "cell_type": "code",
   "execution_count": 6,
   "metadata": {},
   "outputs": [],
   "source": [
    "# function that extracts the category of the venue\n",
    "def get_category_type(row):\n",
    "    try:\n",
    "        categories_list = row['categories']\n",
    "    except:\n",
    "        categories_list = row['venue.categories']\n",
    "        \n",
    "    if len(categories_list) == 0:\n",
    "        return None\n",
    "    else:\n",
    "        return categories_list[0]['name']\n",
    "\n",
    "# function that check if venues exist\n",
    "def checkVenues (json):\n",
    "    results = json\n",
    "    if len(results['response']['venues']) == 0:\n",
    "        trending_venues_df = 'No trending venues are available at the moment!'\n",
    "    \n",
    "    else:\n",
    "        trending_venues = results['response']['venues']\n",
    "        trending_venues_df = json_normalize(trending_venues)\n",
    "\n",
    "        # filter columns\n",
    "        columns_filtered = ['name', 'categories'] + ['location.distance', 'location.city', 'location.postalCode', 'location.state', 'location.country', 'location.lat', 'location.lng']\n",
    "        trending_venues_df = trending_venues_df.loc[:, columns_filtered]\n",
    "\n",
    "        # filter the category for each row\n",
    "        trending_venues_df['categories'] = trending_venues_df.apply(get_category_type, axis=1)\n",
    "    return trending_venues_df"
   ]
  },
  {
   "cell_type": "code",
   "execution_count": 7,
   "metadata": {},
   "outputs": [],
   "source": [
    "ESB_trending_venues_df = checkVenues(ESB_results)\n",
    "CNT_trending_venues_df = checkVenues(CNT_results)"
   ]
  },
  {
   "cell_type": "code",
   "execution_count": 8,
   "metadata": {},
   "outputs": [
    {
     "data": {
      "text/html": [
       "<div>\n",
       "<style scoped>\n",
       "    .dataframe tbody tr th:only-of-type {\n",
       "        vertical-align: middle;\n",
       "    }\n",
       "\n",
       "    .dataframe tbody tr th {\n",
       "        vertical-align: top;\n",
       "    }\n",
       "\n",
       "    .dataframe thead th {\n",
       "        text-align: right;\n",
       "    }\n",
       "</style>\n",
       "<table border=\"1\" class=\"dataframe\">\n",
       "  <thead>\n",
       "    <tr style=\"text-align: right;\">\n",
       "      <th></th>\n",
       "      <th>name</th>\n",
       "      <th>categories</th>\n",
       "      <th>location.distance</th>\n",
       "      <th>location.city</th>\n",
       "      <th>location.postalCode</th>\n",
       "      <th>location.state</th>\n",
       "      <th>location.country</th>\n",
       "      <th>location.lat</th>\n",
       "      <th>location.lng</th>\n",
       "    </tr>\n",
       "  </thead>\n",
       "  <tbody>\n",
       "    <tr>\n",
       "      <th>0</th>\n",
       "      <td>Grand Central Terminal</td>\n",
       "      <td>Train Station</td>\n",
       "      <td>838</td>\n",
       "      <td>New York</td>\n",
       "      <td>10017</td>\n",
       "      <td>NY</td>\n",
       "      <td>United States</td>\n",
       "      <td>40.752842</td>\n",
       "      <td>-73.977594</td>\n",
       "    </tr>\n",
       "    <tr>\n",
       "      <th>1</th>\n",
       "      <td>Jacob K. Javits Convention Center</td>\n",
       "      <td>Convention Center</td>\n",
       "      <td>1713</td>\n",
       "      <td>New York</td>\n",
       "      <td>10001</td>\n",
       "      <td>NY</td>\n",
       "      <td>United States</td>\n",
       "      <td>40.757140</td>\n",
       "      <td>-74.002404</td>\n",
       "    </tr>\n",
       "    <tr>\n",
       "      <th>2</th>\n",
       "      <td>New York Penn Station</td>\n",
       "      <td>Train Station</td>\n",
       "      <td>680</td>\n",
       "      <td>New York</td>\n",
       "      <td>10001</td>\n",
       "      <td>NY</td>\n",
       "      <td>United States</td>\n",
       "      <td>40.750687</td>\n",
       "      <td>-73.993152</td>\n",
       "    </tr>\n",
       "    <tr>\n",
       "      <th>3</th>\n",
       "      <td>Google New York</td>\n",
       "      <td>Office</td>\n",
       "      <td>1715</td>\n",
       "      <td>New York</td>\n",
       "      <td>10011</td>\n",
       "      <td>NY</td>\n",
       "      <td>United States</td>\n",
       "      <td>40.741616</td>\n",
       "      <td>-74.003906</td>\n",
       "    </tr>\n",
       "    <tr>\n",
       "      <th>4</th>\n",
       "      <td>Museum of Modern Art (MoMA)</td>\n",
       "      <td>Art Museum</td>\n",
       "      <td>1625</td>\n",
       "      <td>New York</td>\n",
       "      <td>10019</td>\n",
       "      <td>NY</td>\n",
       "      <td>United States</td>\n",
       "      <td>40.761531</td>\n",
       "      <td>-73.977135</td>\n",
       "    </tr>\n",
       "    <tr>\n",
       "      <th>5</th>\n",
       "      <td>Port Authority Bus Terminal</td>\n",
       "      <td>Bus Station</td>\n",
       "      <td>1093</td>\n",
       "      <td>New York</td>\n",
       "      <td>10018</td>\n",
       "      <td>NY</td>\n",
       "      <td>United States</td>\n",
       "      <td>40.756905</td>\n",
       "      <td>-73.992200</td>\n",
       "    </tr>\n",
       "    <tr>\n",
       "      <th>6</th>\n",
       "      <td>Foursquare HQ</td>\n",
       "      <td>Tech Startup</td>\n",
       "      <td>842</td>\n",
       "      <td>New York</td>\n",
       "      <td>10010</td>\n",
       "      <td>NY</td>\n",
       "      <td>United States</td>\n",
       "      <td>40.742320</td>\n",
       "      <td>-73.991562</td>\n",
       "    </tr>\n",
       "  </tbody>\n",
       "</table>\n",
       "</div>"
      ],
      "text/plain": [
       "                                name         categories  location.distance  \\\n",
       "0             Grand Central Terminal      Train Station                838   \n",
       "1  Jacob K. Javits Convention Center  Convention Center               1713   \n",
       "2              New York Penn Station      Train Station                680   \n",
       "3                    Google New York             Office               1715   \n",
       "4        Museum of Modern Art (MoMA)         Art Museum               1625   \n",
       "5        Port Authority Bus Terminal        Bus Station               1093   \n",
       "6                      Foursquare HQ       Tech Startup                842   \n",
       "\n",
       "  location.city location.postalCode location.state location.country  \\\n",
       "0      New York               10017             NY    United States   \n",
       "1      New York               10001             NY    United States   \n",
       "2      New York               10001             NY    United States   \n",
       "3      New York               10011             NY    United States   \n",
       "4      New York               10019             NY    United States   \n",
       "5      New York               10018             NY    United States   \n",
       "6      New York               10010             NY    United States   \n",
       "\n",
       "   location.lat  location.lng  \n",
       "0     40.752842    -73.977594  \n",
       "1     40.757140    -74.002404  \n",
       "2     40.750687    -73.993152  \n",
       "3     40.741616    -74.003906  \n",
       "4     40.761531    -73.977135  \n",
       "5     40.756905    -73.992200  \n",
       "6     40.742320    -73.991562  "
      ]
     },
     "execution_count": 8,
     "metadata": {},
     "output_type": "execute_result"
    }
   ],
   "source": [
    "#look at ESB trending venues\n",
    "ESB_trending_venues_df"
   ]
  },
  {
   "cell_type": "code",
   "execution_count": 9,
   "metadata": {},
   "outputs": [
    {
     "data": {
      "text/plain": [
       "'No trending venues are available at the moment!'"
      ]
     },
     "execution_count": 9,
     "metadata": {},
     "output_type": "execute_result"
    }
   ],
   "source": [
    "#look at CNT trending venues\n",
    "CNT_trending_venues_df"
   ]
  },
  {
   "cell_type": "markdown",
   "metadata": {},
   "source": [
    "##### Lets save resulting venues (if any) in file adding a timestamp, so we can review it later"
   ]
  },
  {
   "cell_type": "code",
   "execution_count": 10,
   "metadata": {},
   "outputs": [],
   "source": [
    "#import datetime for timestamp\n",
    "from datetime import datetime"
   ]
  },
  {
   "cell_type": "code",
   "execution_count": 11,
   "metadata": {},
   "outputs": [],
   "source": [
    "#define function to check for venues and save to file\n",
    "def saveVenues (trending_venues_df, name):\n",
    "    #if it's a string (no venues), don't save\n",
    "    if isinstance(trending_venues_df, str):\n",
    "        print(\"There is no venues at current time\")\n",
    "    #otherwise (if dataframe) save to file with timestamp\n",
    "    else:\n",
    "        filename = name + datetime.now().strftime('%Y%m%d%H%M%S')\n",
    "        trending_venues_df.to_csv(filename)\n",
    "        print(\"File was saved to \", filename)"
   ]
  },
  {
   "cell_type": "code",
   "execution_count": 12,
   "metadata": {},
   "outputs": [
    {
     "name": "stdout",
     "output_type": "stream",
     "text": [
      "There is no venues at current time\n",
      "File was saved to  ESB20181102112106\n"
     ]
    }
   ],
   "source": [
    "#attempt to save \n",
    "saveVenues(CNT_trending_venues_df, \"CNT\")\n",
    "saveVenues(ESB_trending_venues_df, \"ESB\")"
   ]
  },
  {
   "cell_type": "markdown",
   "metadata": {},
   "source": [
    "##### we can check if file was correctly saved"
   ]
  },
  {
   "cell_type": "code",
   "execution_count": 13,
   "metadata": {},
   "outputs": [
    {
     "data": {
      "text/html": [
       "<div>\n",
       "<style scoped>\n",
       "    .dataframe tbody tr th:only-of-type {\n",
       "        vertical-align: middle;\n",
       "    }\n",
       "\n",
       "    .dataframe tbody tr th {\n",
       "        vertical-align: top;\n",
       "    }\n",
       "\n",
       "    .dataframe thead th {\n",
       "        text-align: right;\n",
       "    }\n",
       "</style>\n",
       "<table border=\"1\" class=\"dataframe\">\n",
       "  <thead>\n",
       "    <tr style=\"text-align: right;\">\n",
       "      <th></th>\n",
       "      <th>name</th>\n",
       "      <th>categories</th>\n",
       "      <th>location.distance</th>\n",
       "      <th>location.city</th>\n",
       "      <th>location.postalCode</th>\n",
       "      <th>location.state</th>\n",
       "      <th>location.country</th>\n",
       "      <th>location.lat</th>\n",
       "      <th>location.lng</th>\n",
       "    </tr>\n",
       "  </thead>\n",
       "  <tbody>\n",
       "    <tr>\n",
       "      <th>0</th>\n",
       "      <td>Grand Central Terminal</td>\n",
       "      <td>Train Station</td>\n",
       "      <td>838</td>\n",
       "      <td>New York</td>\n",
       "      <td>10017</td>\n",
       "      <td>NY</td>\n",
       "      <td>United States</td>\n",
       "      <td>40.752842</td>\n",
       "      <td>-73.977594</td>\n",
       "    </tr>\n",
       "    <tr>\n",
       "      <th>1</th>\n",
       "      <td>Jacob K. Javits Convention Center</td>\n",
       "      <td>Convention Center</td>\n",
       "      <td>1713</td>\n",
       "      <td>New York</td>\n",
       "      <td>10001</td>\n",
       "      <td>NY</td>\n",
       "      <td>United States</td>\n",
       "      <td>40.757140</td>\n",
       "      <td>-74.002404</td>\n",
       "    </tr>\n",
       "    <tr>\n",
       "      <th>2</th>\n",
       "      <td>New York Penn Station</td>\n",
       "      <td>Train Station</td>\n",
       "      <td>680</td>\n",
       "      <td>New York</td>\n",
       "      <td>10001</td>\n",
       "      <td>NY</td>\n",
       "      <td>United States</td>\n",
       "      <td>40.750687</td>\n",
       "      <td>-73.993152</td>\n",
       "    </tr>\n",
       "    <tr>\n",
       "      <th>3</th>\n",
       "      <td>Google New York</td>\n",
       "      <td>Office</td>\n",
       "      <td>1715</td>\n",
       "      <td>New York</td>\n",
       "      <td>10011</td>\n",
       "      <td>NY</td>\n",
       "      <td>United States</td>\n",
       "      <td>40.741616</td>\n",
       "      <td>-74.003906</td>\n",
       "    </tr>\n",
       "    <tr>\n",
       "      <th>4</th>\n",
       "      <td>Museum of Modern Art (MoMA)</td>\n",
       "      <td>Art Museum</td>\n",
       "      <td>1625</td>\n",
       "      <td>New York</td>\n",
       "      <td>10019</td>\n",
       "      <td>NY</td>\n",
       "      <td>United States</td>\n",
       "      <td>40.761531</td>\n",
       "      <td>-73.977135</td>\n",
       "    </tr>\n",
       "  </tbody>\n",
       "</table>\n",
       "</div>"
      ],
      "text/plain": [
       "                                name         categories  location.distance  \\\n",
       "0             Grand Central Terminal      Train Station                838   \n",
       "1  Jacob K. Javits Convention Center  Convention Center               1713   \n",
       "2              New York Penn Station      Train Station                680   \n",
       "3                    Google New York             Office               1715   \n",
       "4        Museum of Modern Art (MoMA)         Art Museum               1625   \n",
       "\n",
       "  location.city  location.postalCode location.state location.country  \\\n",
       "0      New York                10017             NY    United States   \n",
       "1      New York                10001             NY    United States   \n",
       "2      New York                10001             NY    United States   \n",
       "3      New York                10011             NY    United States   \n",
       "4      New York                10019             NY    United States   \n",
       "\n",
       "   location.lat  location.lng  \n",
       "0     40.752842    -73.977594  \n",
       "1     40.757140    -74.002404  \n",
       "2     40.750687    -73.993152  \n",
       "3     40.741616    -74.003906  \n",
       "4     40.761531    -73.977135  "
      ]
     },
     "execution_count": 13,
     "metadata": {},
     "output_type": "execute_result"
    }
   ],
   "source": [
    "checktmp = pd.read_csv(\"ESB20181102112106\").drop(['Unnamed: 0'],axis=1)\n",
    "checktmp.head()"
   ]
  },
  {
   "cell_type": "markdown",
   "metadata": {},
   "source": [
    "##### We can also Visualize trending venues"
   ]
  },
  {
   "cell_type": "code",
   "execution_count": 14,
   "metadata": {},
   "outputs": [],
   "source": [
    "#define visualize function:\n",
    "def visualVenues(trending_venues_df, latitude, longitude):\n",
    "    if isinstance(trending_venues_df, str):\n",
    "        venues_map = 'Cannot generate visual as no trending venues are available at the moment!'\n",
    "    else:\n",
    "        venues_map = folium.Map(location=[latitude, longitude], zoom_start=15) # generate map centred around selected location\n",
    "\n",
    "    # add our location as a red circle mark\n",
    "    folium.features.CircleMarker(\n",
    "        [latitude, longitude],\n",
    "        radius=10,\n",
    "        fill=True,\n",
    "        color='red',\n",
    "        fill_color='red',\n",
    "        fill_opacity=0.6\n",
    "    ).add_to(venues_map)\n",
    "\n",
    "    # add the trending venues as blue circle markers\n",
    "    for lat, lng, label in zip(trending_venues_df['location.lat'], trending_venues_df['location.lng'], trending_venues_df['name']):\n",
    "        folium.features.CircleMarker(\n",
    "            [lat, lng],\n",
    "            radius=5,\n",
    "            poup=label,\n",
    "            fill=True,\n",
    "            color='blue',\n",
    "            fill_color='blue',\n",
    "            fill_opacity=0.6\n",
    "        ).add_to(venues_map)\n",
    "    return venues_map"
   ]
  },
  {
   "cell_type": "code",
   "execution_count": 15,
   "metadata": {},
   "outputs": [],
   "source": [
    "early_venues_map = visualVenues(ESB_trending_venues_df, ESB_latitude, ESB_longitude)"
   ]
  },
  {
   "cell_type": "code",
   "execution_count": 16,
   "metadata": {},
   "outputs": [
    {
     "data": {
      "text/html": [
       "<div style=\"width:100%;\"><div style=\"position:relative;width:100%;height:0;padding-bottom:60%;\"><iframe src=\"data:text/html;charset=utf-8;base64,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\" style=\"position:absolute;width:100%;height:100%;left:0;top:0;border:none !important;\" allowfullscreen webkitallowfullscreen mozallowfullscreen></iframe></div></div>"
      ],
      "text/plain": [
       "<folium.folium.Map at 0x116c80c50>"
      ]
     },
     "execution_count": 16,
     "metadata": {},
     "output_type": "execute_result"
    }
   ],
   "source": [
    "early_venues_map"
   ]
  },
  {
   "cell_type": "markdown",
   "metadata": {},
   "source": [
    " "
   ]
  },
  {
   "cell_type": "markdown",
   "metadata": {},
   "source": [
    "### Now, after a while, we can check trending venues again. They should be different from previous because we call it in different time."
   ]
  },
  {
   "cell_type": "code",
   "execution_count": 17,
   "metadata": {},
   "outputs": [],
   "source": [
    "ESB_results = requests.get(ESB_url).json()\n",
    "CNT_results = requests.get(CNT_url).json()"
   ]
  },
  {
   "cell_type": "code",
   "execution_count": 18,
   "metadata": {},
   "outputs": [],
   "source": [
    "ESB_trending_venues_df = checkVenues(ESB_results)\n",
    "CNT_trending_venues_df = checkVenues(CNT_results)"
   ]
  },
  {
   "cell_type": "code",
   "execution_count": 19,
   "metadata": {},
   "outputs": [
    {
     "data": {
      "text/html": [
       "<div>\n",
       "<style scoped>\n",
       "    .dataframe tbody tr th:only-of-type {\n",
       "        vertical-align: middle;\n",
       "    }\n",
       "\n",
       "    .dataframe tbody tr th {\n",
       "        vertical-align: top;\n",
       "    }\n",
       "\n",
       "    .dataframe thead th {\n",
       "        text-align: right;\n",
       "    }\n",
       "</style>\n",
       "<table border=\"1\" class=\"dataframe\">\n",
       "  <thead>\n",
       "    <tr style=\"text-align: right;\">\n",
       "      <th></th>\n",
       "      <th>name</th>\n",
       "      <th>categories</th>\n",
       "      <th>location.distance</th>\n",
       "      <th>location.city</th>\n",
       "      <th>location.postalCode</th>\n",
       "      <th>location.state</th>\n",
       "      <th>location.country</th>\n",
       "      <th>location.lat</th>\n",
       "      <th>location.lng</th>\n",
       "    </tr>\n",
       "  </thead>\n",
       "  <tbody>\n",
       "    <tr>\n",
       "      <th>0</th>\n",
       "      <td>Jacob K. Javits Convention Center</td>\n",
       "      <td>Convention Center</td>\n",
       "      <td>1713</td>\n",
       "      <td>New York</td>\n",
       "      <td>10001</td>\n",
       "      <td>NY</td>\n",
       "      <td>United States</td>\n",
       "      <td>40.757140</td>\n",
       "      <td>-74.002404</td>\n",
       "    </tr>\n",
       "    <tr>\n",
       "      <th>1</th>\n",
       "      <td>Museum of Modern Art (MoMA)</td>\n",
       "      <td>Art Museum</td>\n",
       "      <td>1625</td>\n",
       "      <td>New York</td>\n",
       "      <td>10019</td>\n",
       "      <td>NY</td>\n",
       "      <td>United States</td>\n",
       "      <td>40.761531</td>\n",
       "      <td>-73.977135</td>\n",
       "    </tr>\n",
       "    <tr>\n",
       "      <th>2</th>\n",
       "      <td>New York Penn Station</td>\n",
       "      <td>Train Station</td>\n",
       "      <td>680</td>\n",
       "      <td>New York</td>\n",
       "      <td>10001</td>\n",
       "      <td>NY</td>\n",
       "      <td>United States</td>\n",
       "      <td>40.750687</td>\n",
       "      <td>-73.993152</td>\n",
       "    </tr>\n",
       "    <tr>\n",
       "      <th>3</th>\n",
       "      <td>Grand Central Terminal</td>\n",
       "      <td>Train Station</td>\n",
       "      <td>838</td>\n",
       "      <td>New York</td>\n",
       "      <td>10017</td>\n",
       "      <td>NY</td>\n",
       "      <td>United States</td>\n",
       "      <td>40.752842</td>\n",
       "      <td>-73.977594</td>\n",
       "    </tr>\n",
       "    <tr>\n",
       "      <th>4</th>\n",
       "      <td>Google New York</td>\n",
       "      <td>Office</td>\n",
       "      <td>1715</td>\n",
       "      <td>New York</td>\n",
       "      <td>10011</td>\n",
       "      <td>NY</td>\n",
       "      <td>United States</td>\n",
       "      <td>40.741616</td>\n",
       "      <td>-74.003906</td>\n",
       "    </tr>\n",
       "    <tr>\n",
       "      <th>5</th>\n",
       "      <td>Shake Shack</td>\n",
       "      <td>Burger Joint</td>\n",
       "      <td>819</td>\n",
       "      <td>New York</td>\n",
       "      <td>10010</td>\n",
       "      <td>NY</td>\n",
       "      <td>United States</td>\n",
       "      <td>40.741353</td>\n",
       "      <td>-73.988337</td>\n",
       "    </tr>\n",
       "    <tr>\n",
       "      <th>6</th>\n",
       "      <td>Turntable Chicken Jazz</td>\n",
       "      <td>Fried Chicken Joint</td>\n",
       "      <td>54</td>\n",
       "      <td>New York</td>\n",
       "      <td>10001</td>\n",
       "      <td>NY</td>\n",
       "      <td>United States</td>\n",
       "      <td>40.748428</td>\n",
       "      <td>-73.986302</td>\n",
       "    </tr>\n",
       "    <tr>\n",
       "      <th>7</th>\n",
       "      <td>Xi'an Famous Foods</td>\n",
       "      <td>Chinese Restaurant</td>\n",
       "      <td>879</td>\n",
       "      <td>New York</td>\n",
       "      <td>10010</td>\n",
       "      <td>NY</td>\n",
       "      <td>United States</td>\n",
       "      <td>40.740632</td>\n",
       "      <td>-73.987346</td>\n",
       "    </tr>\n",
       "  </tbody>\n",
       "</table>\n",
       "</div>"
      ],
      "text/plain": [
       "                                name           categories  location.distance  \\\n",
       "0  Jacob K. Javits Convention Center    Convention Center               1713   \n",
       "1        Museum of Modern Art (MoMA)           Art Museum               1625   \n",
       "2              New York Penn Station        Train Station                680   \n",
       "3             Grand Central Terminal        Train Station                838   \n",
       "4                    Google New York               Office               1715   \n",
       "5                        Shake Shack         Burger Joint                819   \n",
       "6             Turntable Chicken Jazz  Fried Chicken Joint                 54   \n",
       "7                 Xi'an Famous Foods   Chinese Restaurant                879   \n",
       "\n",
       "  location.city location.postalCode location.state location.country  \\\n",
       "0      New York               10001             NY    United States   \n",
       "1      New York               10019             NY    United States   \n",
       "2      New York               10001             NY    United States   \n",
       "3      New York               10017             NY    United States   \n",
       "4      New York               10011             NY    United States   \n",
       "5      New York               10010             NY    United States   \n",
       "6      New York               10001             NY    United States   \n",
       "7      New York               10010             NY    United States   \n",
       "\n",
       "   location.lat  location.lng  \n",
       "0     40.757140    -74.002404  \n",
       "1     40.761531    -73.977135  \n",
       "2     40.750687    -73.993152  \n",
       "3     40.752842    -73.977594  \n",
       "4     40.741616    -74.003906  \n",
       "5     40.741353    -73.988337  \n",
       "6     40.748428    -73.986302  \n",
       "7     40.740632    -73.987346  "
      ]
     },
     "execution_count": 19,
     "metadata": {},
     "output_type": "execute_result"
    }
   ],
   "source": [
    "ESB_trending_venues_df"
   ]
  },
  {
   "cell_type": "code",
   "execution_count": 20,
   "metadata": {},
   "outputs": [
    {
     "data": {
      "text/plain": [
       "'No trending venues are available at the moment!'"
      ]
     },
     "execution_count": 20,
     "metadata": {},
     "output_type": "execute_result"
    }
   ],
   "source": [
    "CNT_trending_venues_df"
   ]
  },
  {
   "cell_type": "code",
   "execution_count": 21,
   "metadata": {},
   "outputs": [
    {
     "name": "stdout",
     "output_type": "stream",
     "text": [
      "There is no venues at current time\n",
      "File was saved to  ESB20181102132650\n"
     ]
    }
   ],
   "source": [
    "saveVenues(CNT_trending_venues_df, \"CNT\")\n",
    "saveVenues(ESB_trending_venues_df, \"ESB\")"
   ]
  },
  {
   "cell_type": "markdown",
   "metadata": {},
   "source": [
    "### Finally we can compare trending venues in after some time passed"
   ]
  },
  {
   "cell_type": "code",
   "execution_count": 22,
   "metadata": {},
   "outputs": [
    {
     "data": {
      "text/html": [
       "<div>\n",
       "<style scoped>\n",
       "    .dataframe tbody tr th:only-of-type {\n",
       "        vertical-align: middle;\n",
       "    }\n",
       "\n",
       "    .dataframe tbody tr th {\n",
       "        vertical-align: top;\n",
       "    }\n",
       "\n",
       "    .dataframe thead th {\n",
       "        text-align: right;\n",
       "    }\n",
       "</style>\n",
       "<table border=\"1\" class=\"dataframe\">\n",
       "  <thead>\n",
       "    <tr style=\"text-align: right;\">\n",
       "      <th></th>\n",
       "      <th>name</th>\n",
       "      <th>categories</th>\n",
       "      <th>location.distance</th>\n",
       "      <th>location.city</th>\n",
       "      <th>location.postalCode</th>\n",
       "      <th>location.state</th>\n",
       "      <th>location.country</th>\n",
       "      <th>location.lat</th>\n",
       "      <th>location.lng</th>\n",
       "    </tr>\n",
       "  </thead>\n",
       "  <tbody>\n",
       "    <tr>\n",
       "      <th>0</th>\n",
       "      <td>Grand Central Terminal</td>\n",
       "      <td>Train Station</td>\n",
       "      <td>838</td>\n",
       "      <td>New York</td>\n",
       "      <td>10017</td>\n",
       "      <td>NY</td>\n",
       "      <td>United States</td>\n",
       "      <td>40.752842</td>\n",
       "      <td>-73.977594</td>\n",
       "    </tr>\n",
       "    <tr>\n",
       "      <th>1</th>\n",
       "      <td>Jacob K. Javits Convention Center</td>\n",
       "      <td>Convention Center</td>\n",
       "      <td>1713</td>\n",
       "      <td>New York</td>\n",
       "      <td>10001</td>\n",
       "      <td>NY</td>\n",
       "      <td>United States</td>\n",
       "      <td>40.757140</td>\n",
       "      <td>-74.002404</td>\n",
       "    </tr>\n",
       "    <tr>\n",
       "      <th>2</th>\n",
       "      <td>New York Penn Station</td>\n",
       "      <td>Train Station</td>\n",
       "      <td>680</td>\n",
       "      <td>New York</td>\n",
       "      <td>10001</td>\n",
       "      <td>NY</td>\n",
       "      <td>United States</td>\n",
       "      <td>40.750687</td>\n",
       "      <td>-73.993152</td>\n",
       "    </tr>\n",
       "    <tr>\n",
       "      <th>3</th>\n",
       "      <td>Google New York</td>\n",
       "      <td>Office</td>\n",
       "      <td>1715</td>\n",
       "      <td>New York</td>\n",
       "      <td>10011</td>\n",
       "      <td>NY</td>\n",
       "      <td>United States</td>\n",
       "      <td>40.741616</td>\n",
       "      <td>-74.003906</td>\n",
       "    </tr>\n",
       "    <tr>\n",
       "      <th>4</th>\n",
       "      <td>Museum of Modern Art (MoMA)</td>\n",
       "      <td>Art Museum</td>\n",
       "      <td>1625</td>\n",
       "      <td>New York</td>\n",
       "      <td>10019</td>\n",
       "      <td>NY</td>\n",
       "      <td>United States</td>\n",
       "      <td>40.761531</td>\n",
       "      <td>-73.977135</td>\n",
       "    </tr>\n",
       "    <tr>\n",
       "      <th>5</th>\n",
       "      <td>Port Authority Bus Terminal</td>\n",
       "      <td>Bus Station</td>\n",
       "      <td>1093</td>\n",
       "      <td>New York</td>\n",
       "      <td>10018</td>\n",
       "      <td>NY</td>\n",
       "      <td>United States</td>\n",
       "      <td>40.756905</td>\n",
       "      <td>-73.992200</td>\n",
       "    </tr>\n",
       "    <tr>\n",
       "      <th>6</th>\n",
       "      <td>Foursquare HQ</td>\n",
       "      <td>Tech Startup</td>\n",
       "      <td>842</td>\n",
       "      <td>New York</td>\n",
       "      <td>10010</td>\n",
       "      <td>NY</td>\n",
       "      <td>United States</td>\n",
       "      <td>40.742320</td>\n",
       "      <td>-73.991562</td>\n",
       "    </tr>\n",
       "  </tbody>\n",
       "</table>\n",
       "</div>"
      ],
      "text/plain": [
       "                                name         categories  location.distance  \\\n",
       "0             Grand Central Terminal      Train Station                838   \n",
       "1  Jacob K. Javits Convention Center  Convention Center               1713   \n",
       "2              New York Penn Station      Train Station                680   \n",
       "3                    Google New York             Office               1715   \n",
       "4        Museum of Modern Art (MoMA)         Art Museum               1625   \n",
       "5        Port Authority Bus Terminal        Bus Station               1093   \n",
       "6                      Foursquare HQ       Tech Startup                842   \n",
       "\n",
       "  location.city  location.postalCode location.state location.country  \\\n",
       "0      New York                10017             NY    United States   \n",
       "1      New York                10001             NY    United States   \n",
       "2      New York                10001             NY    United States   \n",
       "3      New York                10011             NY    United States   \n",
       "4      New York                10019             NY    United States   \n",
       "5      New York                10018             NY    United States   \n",
       "6      New York                10010             NY    United States   \n",
       "\n",
       "   location.lat  location.lng  \n",
       "0     40.752842    -73.977594  \n",
       "1     40.757140    -74.002404  \n",
       "2     40.750687    -73.993152  \n",
       "3     40.741616    -74.003906  \n",
       "4     40.761531    -73.977135  \n",
       "5     40.756905    -73.992200  \n",
       "6     40.742320    -73.991562  "
      ]
     },
     "execution_count": 22,
     "metadata": {},
     "output_type": "execute_result"
    }
   ],
   "source": [
    "early_venues = pd.read_csv(\"ESB20181102112106\").drop(['Unnamed: 0'],axis=1)\n",
    "early_venues"
   ]
  },
  {
   "cell_type": "code",
   "execution_count": 23,
   "metadata": {},
   "outputs": [
    {
     "data": {
      "text/html": [
       "<div>\n",
       "<style scoped>\n",
       "    .dataframe tbody tr th:only-of-type {\n",
       "        vertical-align: middle;\n",
       "    }\n",
       "\n",
       "    .dataframe tbody tr th {\n",
       "        vertical-align: top;\n",
       "    }\n",
       "\n",
       "    .dataframe thead th {\n",
       "        text-align: right;\n",
       "    }\n",
       "</style>\n",
       "<table border=\"1\" class=\"dataframe\">\n",
       "  <thead>\n",
       "    <tr style=\"text-align: right;\">\n",
       "      <th></th>\n",
       "      <th>name</th>\n",
       "      <th>categories</th>\n",
       "      <th>location.distance</th>\n",
       "      <th>location.city</th>\n",
       "      <th>location.postalCode</th>\n",
       "      <th>location.state</th>\n",
       "      <th>location.country</th>\n",
       "      <th>location.lat</th>\n",
       "      <th>location.lng</th>\n",
       "    </tr>\n",
       "  </thead>\n",
       "  <tbody>\n",
       "    <tr>\n",
       "      <th>0</th>\n",
       "      <td>Jacob K. Javits Convention Center</td>\n",
       "      <td>Convention Center</td>\n",
       "      <td>1713</td>\n",
       "      <td>New York</td>\n",
       "      <td>10001</td>\n",
       "      <td>NY</td>\n",
       "      <td>United States</td>\n",
       "      <td>40.757140</td>\n",
       "      <td>-74.002404</td>\n",
       "    </tr>\n",
       "    <tr>\n",
       "      <th>1</th>\n",
       "      <td>Museum of Modern Art (MoMA)</td>\n",
       "      <td>Art Museum</td>\n",
       "      <td>1625</td>\n",
       "      <td>New York</td>\n",
       "      <td>10019</td>\n",
       "      <td>NY</td>\n",
       "      <td>United States</td>\n",
       "      <td>40.761531</td>\n",
       "      <td>-73.977135</td>\n",
       "    </tr>\n",
       "    <tr>\n",
       "      <th>2</th>\n",
       "      <td>New York Penn Station</td>\n",
       "      <td>Train Station</td>\n",
       "      <td>680</td>\n",
       "      <td>New York</td>\n",
       "      <td>10001</td>\n",
       "      <td>NY</td>\n",
       "      <td>United States</td>\n",
       "      <td>40.750687</td>\n",
       "      <td>-73.993152</td>\n",
       "    </tr>\n",
       "    <tr>\n",
       "      <th>3</th>\n",
       "      <td>Grand Central Terminal</td>\n",
       "      <td>Train Station</td>\n",
       "      <td>838</td>\n",
       "      <td>New York</td>\n",
       "      <td>10017</td>\n",
       "      <td>NY</td>\n",
       "      <td>United States</td>\n",
       "      <td>40.752842</td>\n",
       "      <td>-73.977594</td>\n",
       "    </tr>\n",
       "    <tr>\n",
       "      <th>4</th>\n",
       "      <td>Google New York</td>\n",
       "      <td>Office</td>\n",
       "      <td>1715</td>\n",
       "      <td>New York</td>\n",
       "      <td>10011</td>\n",
       "      <td>NY</td>\n",
       "      <td>United States</td>\n",
       "      <td>40.741616</td>\n",
       "      <td>-74.003906</td>\n",
       "    </tr>\n",
       "    <tr>\n",
       "      <th>5</th>\n",
       "      <td>Shake Shack</td>\n",
       "      <td>Burger Joint</td>\n",
       "      <td>819</td>\n",
       "      <td>New York</td>\n",
       "      <td>10010</td>\n",
       "      <td>NY</td>\n",
       "      <td>United States</td>\n",
       "      <td>40.741353</td>\n",
       "      <td>-73.988337</td>\n",
       "    </tr>\n",
       "    <tr>\n",
       "      <th>6</th>\n",
       "      <td>Turntable Chicken Jazz</td>\n",
       "      <td>Fried Chicken Joint</td>\n",
       "      <td>54</td>\n",
       "      <td>New York</td>\n",
       "      <td>10001</td>\n",
       "      <td>NY</td>\n",
       "      <td>United States</td>\n",
       "      <td>40.748428</td>\n",
       "      <td>-73.986302</td>\n",
       "    </tr>\n",
       "    <tr>\n",
       "      <th>7</th>\n",
       "      <td>Xi'an Famous Foods</td>\n",
       "      <td>Chinese Restaurant</td>\n",
       "      <td>879</td>\n",
       "      <td>New York</td>\n",
       "      <td>10010</td>\n",
       "      <td>NY</td>\n",
       "      <td>United States</td>\n",
       "      <td>40.740632</td>\n",
       "      <td>-73.987346</td>\n",
       "    </tr>\n",
       "  </tbody>\n",
       "</table>\n",
       "</div>"
      ],
      "text/plain": [
       "                                name           categories  location.distance  \\\n",
       "0  Jacob K. Javits Convention Center    Convention Center               1713   \n",
       "1        Museum of Modern Art (MoMA)           Art Museum               1625   \n",
       "2              New York Penn Station        Train Station                680   \n",
       "3             Grand Central Terminal        Train Station                838   \n",
       "4                    Google New York               Office               1715   \n",
       "5                        Shake Shack         Burger Joint                819   \n",
       "6             Turntable Chicken Jazz  Fried Chicken Joint                 54   \n",
       "7                 Xi'an Famous Foods   Chinese Restaurant                879   \n",
       "\n",
       "  location.city  location.postalCode location.state location.country  \\\n",
       "0      New York                10001             NY    United States   \n",
       "1      New York                10019             NY    United States   \n",
       "2      New York                10001             NY    United States   \n",
       "3      New York                10017             NY    United States   \n",
       "4      New York                10011             NY    United States   \n",
       "5      New York                10010             NY    United States   \n",
       "6      New York                10001             NY    United States   \n",
       "7      New York                10010             NY    United States   \n",
       "\n",
       "   location.lat  location.lng  \n",
       "0     40.757140    -74.002404  \n",
       "1     40.761531    -73.977135  \n",
       "2     40.750687    -73.993152  \n",
       "3     40.752842    -73.977594  \n",
       "4     40.741616    -74.003906  \n",
       "5     40.741353    -73.988337  \n",
       "6     40.748428    -73.986302  \n",
       "7     40.740632    -73.987346  "
      ]
     },
     "execution_count": 23,
     "metadata": {},
     "output_type": "execute_result"
    }
   ],
   "source": [
    "later_venues = pd.read_csv(\"ESB20181102132650\").drop(['Unnamed: 0'],axis=1)\n",
    "later_venues"
   ]
  },
  {
   "cell_type": "markdown",
   "metadata": {},
   "source": [
    "###### As you can see there are differences that I'll talk about in Final report"
   ]
  },
  {
   "cell_type": "markdown",
   "metadata": {},
   "source": [
    "### Also let's visualize later set of venues"
   ]
  },
  {
   "cell_type": "code",
   "execution_count": 24,
   "metadata": {},
   "outputs": [],
   "source": [
    "early_venues_map = visualVenues(ESB_trending_venues_df, ESB_latitude, ESB_longitude)"
   ]
  },
  {
   "cell_type": "code",
   "execution_count": 25,
   "metadata": {},
   "outputs": [
    {
     "data": {
      "text/html": [
       "<div style=\"width:100%;\"><div style=\"position:relative;width:100%;height:0;padding-bottom:60%;\"><iframe src=\"data:text/html;charset=utf-8;base64,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\" style=\"position:absolute;width:100%;height:100%;left:0;top:0;border:none !important;\" allowfullscreen webkitallowfullscreen mozallowfullscreen></iframe></div></div>"
      ],
      "text/plain": [
       "<folium.folium.Map at 0x116c80390>"
      ]
     },
     "execution_count": 25,
     "metadata": {},
     "output_type": "execute_result"
    }
   ],
   "source": [
    "early_venues_map"
   ]
  },
  {
   "cell_type": "markdown",
   "metadata": {},
   "source": [
    "##### We will discuss all the observations in final report as per assignment"
   ]
  },
  {
   "cell_type": "code",
   "execution_count": null,
   "metadata": {},
   "outputs": [],
   "source": []
  }
 ],
 "metadata": {
  "kernelspec": {
   "display_name": "Python 3",
   "language": "python",
   "name": "python3"
  },
  "language_info": {
   "codemirror_mode": {
    "name": "ipython",
    "version": 3
   },
   "file_extension": ".py",
   "mimetype": "text/x-python",
   "name": "python",
   "nbconvert_exporter": "python",
   "pygments_lexer": "ipython3",
   "version": "3.6.5"
  }
 },
 "nbformat": 4,
 "nbformat_minor": 2
}
